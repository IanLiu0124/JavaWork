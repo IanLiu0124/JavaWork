{
 "cells": [
  {
   "cell_type": "markdown",
   "metadata": {},
   "source": [
    "# Reference\n",
    "- NumPy documentation https://numpy.org/\n",
    "- Pandas documentation https://pandas.pydata.org/\n",
    "- Python Fundamentals for Machine Learning by Dr.Thyagaraju G S , Context Innovations Lab\n",
    "- Python for Data Analysis, Data Wrangling with Pandas, Numpy and IPython"
   ]
  },
  {
   "cell_type": "markdown",
   "metadata": {},
   "source": [
    "## Pandas (continue)\n",
    "## 3.6. Data Transformation\n",
    "\n",
    "After we clean the data, we may want to perform data transformation. The data transformation is an important step in feature engineering and extraction. Some important functions you can use in transforming data: apply(), map(), applymap() and transform().\n",
    "\n",
    "Note: apply() works on a row/column basis of a df, applymap works on element basis of a df, map works on element basis of a series\n",
    "\n",
    "In general, data transformation involves (not limited to) the following:\n",
    "- Removing Duplicates\n",
    "- Transforming data using a function or mapping (replace/modify/add (new) columns)\n",
    "- Renaming axes\n",
    "- Replacing values --> use replace()\n",
    "- Discretization and binning\n",
    "- Detecting and filtering outliers --> use boolean operator on the df\n",
    "- Permutation and random sampling --> use sample() and permutation()"
   ]
  },
  {
   "cell_type": "code",
   "execution_count": 3,
   "metadata": {},
   "outputs": [],
   "source": [
    "import pandas as pd\n",
    "import numpy as np"
   ]
  },
  {
   "cell_type": "code",
   "execution_count": 4,
   "metadata": {},
   "outputs": [
    {
     "name": "stdout",
     "output_type": "stream",
     "text": [
      "  Customer  purchase          TYPE\n",
      "0      c 1         1        online\n",
      "1      c 2         2  online order\n",
      "2      c 3         3         other\n",
      "3      c 4         4         store\n",
      "4      c 4         5         store\n"
     ]
    }
   ],
   "source": [
    "# create a dataframe\n",
    "df = pd.DataFrame(\n",
    "    {\n",
    "        'Customer': ['c 1', 'c 2', 'c 3', 'c 4', 'c 4'],\n",
    "        'purchase' : [1, 2, 3, 4, 5],\n",
    "        'TYPE' : ['online', 'online order', 'other', 'store', 'store']\n",
    "    }\n",
    ")\n",
    "print(df)"
   ]
  },
  {
   "cell_type": "code",
   "execution_count": 5,
   "metadata": {},
   "outputs": [
    {
     "data": {
      "text/html": [
       "<div>\n",
       "<style scoped>\n",
       "    .dataframe tbody tr th:only-of-type {\n",
       "        vertical-align: middle;\n",
       "    }\n",
       "\n",
       "    .dataframe tbody tr th {\n",
       "        vertical-align: top;\n",
       "    }\n",
       "\n",
       "    .dataframe thead th {\n",
       "        text-align: right;\n",
       "    }\n",
       "</style>\n",
       "<table border=\"1\" class=\"dataframe\">\n",
       "  <thead>\n",
       "    <tr style=\"text-align: right;\">\n",
       "      <th></th>\n",
       "      <th>Customer</th>\n",
       "      <th>purchase</th>\n",
       "      <th>TYPE</th>\n",
       "    </tr>\n",
       "  </thead>\n",
       "  <tbody>\n",
       "    <tr>\n",
       "      <th>0</th>\n",
       "      <td>c 1</td>\n",
       "      <td>1</td>\n",
       "      <td>online</td>\n",
       "    </tr>\n",
       "    <tr>\n",
       "      <th>1</th>\n",
       "      <td>c 2</td>\n",
       "      <td>2</td>\n",
       "      <td>online order</td>\n",
       "    </tr>\n",
       "    <tr>\n",
       "      <th>2</th>\n",
       "      <td>c 3</td>\n",
       "      <td>3</td>\n",
       "      <td>other</td>\n",
       "    </tr>\n",
       "    <tr>\n",
       "      <th>3</th>\n",
       "      <td>c 4</td>\n",
       "      <td>4</td>\n",
       "      <td>store</td>\n",
       "    </tr>\n",
       "    <tr>\n",
       "      <th>4</th>\n",
       "      <td>c 4</td>\n",
       "      <td>5</td>\n",
       "      <td>store</td>\n",
       "    </tr>\n",
       "  </tbody>\n",
       "</table>\n",
       "</div>"
      ],
      "text/plain": [
       "  Customer  purchase          TYPE\n",
       "0      c 1         1        online\n",
       "1      c 2         2  online order\n",
       "2      c 3         3         other\n",
       "3      c 4         4         store\n",
       "4      c 4         5         store"
      ]
     },
     "execution_count": 5,
     "metadata": {},
     "output_type": "execute_result"
    }
   ],
   "source": [
    "# had a peek of the data\n",
    "df.head()"
   ]
  },
  {
   "cell_type": "code",
   "execution_count": 6,
   "metadata": {},
   "outputs": [
    {
     "name": "stdout",
     "output_type": "stream",
     "text": [
      "<class 'pandas.core.frame.DataFrame'>\n",
      "RangeIndex: 5 entries, 0 to 4\n",
      "Data columns (total 3 columns):\n",
      " #   Column    Non-Null Count  Dtype \n",
      "---  ------    --------------  ----- \n",
      " 0   Customer  5 non-null      object\n",
      " 1   purchase  5 non-null      int64 \n",
      " 2   TYPE      5 non-null      object\n",
      "dtypes: int64(1), object(2)\n",
      "memory usage: 252.0+ bytes\n"
     ]
    }
   ],
   "source": [
    "# get the information about their dataset\n",
    "df.info(0)"
   ]
  },
  {
   "cell_type": "code",
   "execution_count": 7,
   "metadata": {},
   "outputs": [
    {
     "data": {
      "text/html": [
       "<div>\n",
       "<style scoped>\n",
       "    .dataframe tbody tr th:only-of-type {\n",
       "        vertical-align: middle;\n",
       "    }\n",
       "\n",
       "    .dataframe tbody tr th {\n",
       "        vertical-align: top;\n",
       "    }\n",
       "\n",
       "    .dataframe thead th {\n",
       "        text-align: right;\n",
       "    }\n",
       "</style>\n",
       "<table border=\"1\" class=\"dataframe\">\n",
       "  <thead>\n",
       "    <tr style=\"text-align: right;\">\n",
       "      <th></th>\n",
       "      <th>purchase</th>\n",
       "    </tr>\n",
       "  </thead>\n",
       "  <tbody>\n",
       "    <tr>\n",
       "      <th>count</th>\n",
       "      <td>5.000000</td>\n",
       "    </tr>\n",
       "    <tr>\n",
       "      <th>mean</th>\n",
       "      <td>3.000000</td>\n",
       "    </tr>\n",
       "    <tr>\n",
       "      <th>std</th>\n",
       "      <td>1.581139</td>\n",
       "    </tr>\n",
       "    <tr>\n",
       "      <th>min</th>\n",
       "      <td>1.000000</td>\n",
       "    </tr>\n",
       "    <tr>\n",
       "      <th>25%</th>\n",
       "      <td>2.000000</td>\n",
       "    </tr>\n",
       "    <tr>\n",
       "      <th>50%</th>\n",
       "      <td>3.000000</td>\n",
       "    </tr>\n",
       "    <tr>\n",
       "      <th>75%</th>\n",
       "      <td>4.000000</td>\n",
       "    </tr>\n",
       "    <tr>\n",
       "      <th>max</th>\n",
       "      <td>5.000000</td>\n",
       "    </tr>\n",
       "  </tbody>\n",
       "</table>\n",
       "</div>"
      ],
      "text/plain": [
       "       purchase\n",
       "count  5.000000\n",
       "mean   3.000000\n",
       "std    1.581139\n",
       "min    1.000000\n",
       "25%    2.000000\n",
       "50%    3.000000\n",
       "75%    4.000000\n",
       "max    5.000000"
      ]
     },
     "execution_count": 7,
     "metadata": {},
     "output_type": "execute_result"
    }
   ],
   "source": [
    "# get summary statistics\n",
    "df.describe()"
   ]
  },
  {
   "cell_type": "code",
   "execution_count": 8,
   "metadata": {},
   "outputs": [
    {
     "data": {
      "text/html": [
       "<div>\n",
       "<style scoped>\n",
       "    .dataframe tbody tr th:only-of-type {\n",
       "        vertical-align: middle;\n",
       "    }\n",
       "\n",
       "    .dataframe tbody tr th {\n",
       "        vertical-align: top;\n",
       "    }\n",
       "\n",
       "    .dataframe thead th {\n",
       "        text-align: right;\n",
       "    }\n",
       "</style>\n",
       "<table border=\"1\" class=\"dataframe\">\n",
       "  <thead>\n",
       "    <tr style=\"text-align: right;\">\n",
       "      <th></th>\n",
       "      <th>Customer</th>\n",
       "      <th>purchase</th>\n",
       "      <th>TYPE</th>\n",
       "    </tr>\n",
       "  </thead>\n",
       "  <tbody>\n",
       "    <tr>\n",
       "      <th>0</th>\n",
       "      <td>c 1</td>\n",
       "      <td>1.0</td>\n",
       "      <td>online</td>\n",
       "    </tr>\n",
       "    <tr>\n",
       "      <th>1</th>\n",
       "      <td>c 2</td>\n",
       "      <td>2.0</td>\n",
       "      <td>online order</td>\n",
       "    </tr>\n",
       "    <tr>\n",
       "      <th>2</th>\n",
       "      <td>c 3</td>\n",
       "      <td>3.0</td>\n",
       "      <td>other</td>\n",
       "    </tr>\n",
       "    <tr>\n",
       "      <th>3</th>\n",
       "      <td>c 4</td>\n",
       "      <td>4.0</td>\n",
       "      <td>store</td>\n",
       "    </tr>\n",
       "    <tr>\n",
       "      <th>4</th>\n",
       "      <td>c 4</td>\n",
       "      <td>5.0</td>\n",
       "      <td>store</td>\n",
       "    </tr>\n",
       "  </tbody>\n",
       "</table>\n",
       "</div>"
      ],
      "text/plain": [
       "  Customer  purchase          TYPE\n",
       "0      c 1       1.0        online\n",
       "1      c 2       2.0  online order\n",
       "2      c 3       3.0         other\n",
       "3      c 4       4.0         store\n",
       "4      c 4       5.0         store"
      ]
     },
     "execution_count": 8,
     "metadata": {},
     "output_type": "execute_result"
    }
   ],
   "source": [
    "# change the datatype\n",
    "df.purchase = df.purchase.astype('float64')\n",
    "df"
   ]
  },
  {
   "cell_type": "markdown",
   "metadata": {},
   "source": [
    "### Removing Duplicates"
   ]
  },
  {
   "cell_type": "code",
   "execution_count": 10,
   "metadata": {},
   "outputs": [
    {
     "name": "stdout",
     "output_type": "stream",
     "text": [
      "  Customer  purchase          TYPE\n",
      "0      c 1       1.0        online\n",
      "1      c 2       2.0  online order\n",
      "2      c 3       3.0         other\n",
      "4      c 4       5.0         store\n"
     ]
    }
   ],
   "source": [
    "#use drop_duplicates() method\n",
    "df.duplicated(['Customer'])\n",
    "\n",
    "df1 = df.drop_duplicates(['Customer'],keep='last')\n",
    "print(df1)"
   ]
  },
  {
   "cell_type": "markdown",
   "metadata": {},
   "source": [
    "### Some string manipulation"
   ]
  },
  {
   "cell_type": "code",
   "execution_count": 12,
   "metadata": {},
   "outputs": [
    {
     "data": {
      "text/html": [
       "<div>\n",
       "<style scoped>\n",
       "    .dataframe tbody tr th:only-of-type {\n",
       "        vertical-align: middle;\n",
       "    }\n",
       "\n",
       "    .dataframe tbody tr th {\n",
       "        vertical-align: top;\n",
       "    }\n",
       "\n",
       "    .dataframe thead th {\n",
       "        text-align: right;\n",
       "    }\n",
       "</style>\n",
       "<table border=\"1\" class=\"dataframe\">\n",
       "  <thead>\n",
       "    <tr style=\"text-align: right;\">\n",
       "      <th></th>\n",
       "      <th>customer</th>\n",
       "      <th>purchase</th>\n",
       "      <th>type</th>\n",
       "    </tr>\n",
       "  </thead>\n",
       "  <tbody>\n",
       "    <tr>\n",
       "      <th>0</th>\n",
       "      <td>c1</td>\n",
       "      <td>1.0</td>\n",
       "      <td>online</td>\n",
       "    </tr>\n",
       "    <tr>\n",
       "      <th>1</th>\n",
       "      <td>c2</td>\n",
       "      <td>2.0</td>\n",
       "      <td>online order</td>\n",
       "    </tr>\n",
       "    <tr>\n",
       "      <th>2</th>\n",
       "      <td>c3</td>\n",
       "      <td>3.0</td>\n",
       "      <td>other</td>\n",
       "    </tr>\n",
       "    <tr>\n",
       "      <th>3</th>\n",
       "      <td>c4</td>\n",
       "      <td>4.0</td>\n",
       "      <td>store</td>\n",
       "    </tr>\n",
       "    <tr>\n",
       "      <th>4</th>\n",
       "      <td>c4</td>\n",
       "      <td>5.0</td>\n",
       "      <td>store</td>\n",
       "    </tr>\n",
       "  </tbody>\n",
       "</table>\n",
       "</div>"
      ],
      "text/plain": [
       "  customer  purchase          type\n",
       "0       c1       1.0        online\n",
       "1       c2       2.0  online order\n",
       "2       c3       3.0         other\n",
       "3       c4       4.0         store\n",
       "4       c4       5.0         store"
      ]
     },
     "execution_count": 12,
     "metadata": {},
     "output_type": "execute_result"
    }
   ],
   "source": [
    "df2 = df.copy()\n",
    "# replace column names to be lower case\n",
    "df2.columns = df2.columns.str.lower()\n",
    "df2\n",
    "\n",
    "# remove whitespace in column customer. You may get a warning message\n",
    "df2.customer = df2.customer.str.replace(\" \",\"\")\n",
    "df2"
   ]
  },
  {
   "cell_type": "code",
   "execution_count": 13,
   "metadata": {},
   "outputs": [
    {
     "data": {
      "text/plain": [
       "type\n",
       "store           2\n",
       "online          1\n",
       "online order    1\n",
       "other           1\n",
       "Name: count, dtype: int64"
      ]
     },
     "execution_count": 13,
     "metadata": {},
     "output_type": "execute_result"
    }
   ],
   "source": [
    "# uniq and value counts\n",
    "df2.type.unique()\n",
    "df2.type.value_counts()"
   ]
  },
  {
   "cell_type": "code",
   "execution_count": 14,
   "metadata": {},
   "outputs": [
    {
     "data": {
      "text/html": [
       "<div>\n",
       "<style scoped>\n",
       "    .dataframe tbody tr th:only-of-type {\n",
       "        vertical-align: middle;\n",
       "    }\n",
       "\n",
       "    .dataframe tbody tr th {\n",
       "        vertical-align: top;\n",
       "    }\n",
       "\n",
       "    .dataframe thead th {\n",
       "        text-align: right;\n",
       "    }\n",
       "</style>\n",
       "<table border=\"1\" class=\"dataframe\">\n",
       "  <thead>\n",
       "    <tr style=\"text-align: right;\">\n",
       "      <th></th>\n",
       "      <th>customer</th>\n",
       "      <th>purchase</th>\n",
       "      <th>type</th>\n",
       "    </tr>\n",
       "  </thead>\n",
       "  <tbody>\n",
       "    <tr>\n",
       "      <th>0</th>\n",
       "      <td>c1</td>\n",
       "      <td>1.0</td>\n",
       "      <td>online</td>\n",
       "    </tr>\n",
       "    <tr>\n",
       "      <th>1</th>\n",
       "      <td>c2</td>\n",
       "      <td>2.0</td>\n",
       "      <td>online</td>\n",
       "    </tr>\n",
       "    <tr>\n",
       "      <th>2</th>\n",
       "      <td>c3</td>\n",
       "      <td>3.0</td>\n",
       "      <td>other</td>\n",
       "    </tr>\n",
       "    <tr>\n",
       "      <th>3</th>\n",
       "      <td>c4</td>\n",
       "      <td>4.0</td>\n",
       "      <td>other</td>\n",
       "    </tr>\n",
       "    <tr>\n",
       "      <th>4</th>\n",
       "      <td>c4</td>\n",
       "      <td>5.0</td>\n",
       "      <td>other</td>\n",
       "    </tr>\n",
       "  </tbody>\n",
       "</table>\n",
       "</div>"
      ],
      "text/plain": [
       "  customer  purchase    type\n",
       "0       c1       1.0  online\n",
       "1       c2       2.0  online\n",
       "2       c3       3.0   other\n",
       "3       c4       4.0   other\n",
       "4       c4       5.0   other"
      ]
     },
     "execution_count": 14,
     "metadata": {},
     "output_type": "execute_result"
    }
   ],
   "source": [
    "# replace some values that contains certain string\n",
    "df2.loc[df2.type.str.contains('(?i)online'), 'type'] = 'online' #?i = any case letter\n",
    "df2.loc[df2.type.str.contains('(?i)store|other'), 'type'] = 'other'\n",
    "df2"
   ]
  },
  {
   "cell_type": "code",
   "execution_count": 15,
   "metadata": {},
   "outputs": [
    {
     "data": {
      "text/html": [
       "<div>\n",
       "<style scoped>\n",
       "    .dataframe tbody tr th:only-of-type {\n",
       "        vertical-align: middle;\n",
       "    }\n",
       "\n",
       "    .dataframe tbody tr th {\n",
       "        vertical-align: top;\n",
       "    }\n",
       "\n",
       "    .dataframe thead th {\n",
       "        text-align: right;\n",
       "    }\n",
       "</style>\n",
       "<table border=\"1\" class=\"dataframe\">\n",
       "  <thead>\n",
       "    <tr style=\"text-align: right;\">\n",
       "      <th></th>\n",
       "      <th>customer</th>\n",
       "      <th>type</th>\n",
       "      <th>purchase</th>\n",
       "    </tr>\n",
       "  </thead>\n",
       "  <tbody>\n",
       "    <tr>\n",
       "      <th>0</th>\n",
       "      <td>c1</td>\n",
       "      <td>online</td>\n",
       "      <td>1.0</td>\n",
       "    </tr>\n",
       "    <tr>\n",
       "      <th>1</th>\n",
       "      <td>c2</td>\n",
       "      <td>online</td>\n",
       "      <td>2.0</td>\n",
       "    </tr>\n",
       "    <tr>\n",
       "      <th>2</th>\n",
       "      <td>c3</td>\n",
       "      <td>other</td>\n",
       "      <td>3.0</td>\n",
       "    </tr>\n",
       "    <tr>\n",
       "      <th>3</th>\n",
       "      <td>c4</td>\n",
       "      <td>other</td>\n",
       "      <td>4.0</td>\n",
       "    </tr>\n",
       "    <tr>\n",
       "      <th>4</th>\n",
       "      <td>c4</td>\n",
       "      <td>other</td>\n",
       "      <td>5.0</td>\n",
       "    </tr>\n",
       "  </tbody>\n",
       "</table>\n",
       "</div>"
      ],
      "text/plain": [
       "  customer    type  purchase\n",
       "0       c1  online       1.0\n",
       "1       c2  online       2.0\n",
       "2       c3   other       3.0\n",
       "3       c4   other       4.0\n",
       "4       c4   other       5.0"
      ]
     },
     "execution_count": 15,
     "metadata": {},
     "output_type": "execute_result"
    }
   ],
   "source": [
    "# reorder the column\n",
    "df2 = df2[['customer','type','purchase']]\n",
    "df2"
   ]
  },
  {
   "cell_type": "code",
   "execution_count": 16,
   "metadata": {},
   "outputs": [
    {
     "data": {
      "text/plain": [
       "Index([1, 2, 3, 4], dtype='int64')"
      ]
     },
     "execution_count": 16,
     "metadata": {},
     "output_type": "execute_result"
    }
   ],
   "source": [
    "# find rows where purchase is greater than 1\n",
    "df[df.purchase>1]\n",
    "df[df.purchase>1].index\n",
    "\n",
    "# find rows where purchase is less than 5 and type is other"
   ]
  },
  {
   "cell_type": "markdown",
   "metadata": {},
   "source": [
    "### Transforming dataframe with function"
   ]
  },
  {
   "cell_type": "code",
   "execution_count": 18,
   "metadata": {},
   "outputs": [
    {
     "name": "stdout",
     "output_type": "stream",
     "text": [
      "    x1   x2   x3   x4  x5\n",
      "0  2.0  NaN  NaN  8.0   5\n",
      "1  1.0  NaN  NaN  9.0   1\n",
      "2  7.0  NaN  8.0  NaN   3\n",
      "3  NaN  5.0  8.0  NaN   8\n",
      "    x1   x2   x3   x4  x5    x6   new\n",
      "0  2.0  NaN  NaN  8.0   5  13.0  16.0\n",
      "1  1.0  NaN  NaN  9.0   1  10.0  18.0\n",
      "2  7.0  NaN  8.0  NaN   3   NaN   NaN\n",
      "3  NaN  5.0  8.0  NaN   8   NaN   NaN\n"
     ]
    }
   ],
   "source": [
    "# replace the whole dataframe or adding new column or data to the dataframe\n",
    "# replace the whole dataframe or adding new column or data to the dataframe\n",
    "df = pd.DataFrame(np.random.randint(1,10, size=20).reshape(4,5),\n",
    "                 columns=['x1','x2','x3','x4','x5']\n",
    "                 )\n",
    "# inject some nan\n",
    "for ind in df.index:\n",
    "    df.loc[ind, df.sample(frac=0.5, axis=1).columns] = np.nan\n",
    "    \n",
    "print(df)    \n",
    "# some function to double the value    \n",
    "def double_it(x):\n",
    "    return x * 2\n",
    "\n",
    "df.apply(double_it)\n",
    "\n",
    "# using lambda function\n",
    "df.apply(lambda n: np.log(n))  # natural logarithm\n",
    "\n",
    "# add a new column\n",
    "df['x6'] = df['x4']+df['x5']\n",
    "df['new'] = df['x4'].apply(lambda x: x*2)\n",
    "print(df)"
   ]
  },
  {
   "cell_type": "code",
   "execution_count": 19,
   "metadata": {},
   "outputs": [
    {
     "data": {
      "text/html": [
       "<div>\n",
       "<style scoped>\n",
       "    .dataframe tbody tr th:only-of-type {\n",
       "        vertical-align: middle;\n",
       "    }\n",
       "\n",
       "    .dataframe tbody tr th {\n",
       "        vertical-align: top;\n",
       "    }\n",
       "\n",
       "    .dataframe thead th {\n",
       "        text-align: right;\n",
       "    }\n",
       "</style>\n",
       "<table border=\"1\" class=\"dataframe\">\n",
       "  <thead>\n",
       "    <tr style=\"text-align: right;\">\n",
       "      <th></th>\n",
       "      <th>x1</th>\n",
       "      <th>x2</th>\n",
       "      <th>x3</th>\n",
       "      <th>x4</th>\n",
       "      <th>x5</th>\n",
       "      <th>x6</th>\n",
       "      <th>new</th>\n",
       "    </tr>\n",
       "  </thead>\n",
       "  <tbody>\n",
       "    <tr>\n",
       "      <th>0</th>\n",
       "      <td>2.0</td>\n",
       "      <td>NaN</td>\n",
       "      <td>NaN</td>\n",
       "      <td>8.0</td>\n",
       "      <td>5</td>\n",
       "      <td>13.0</td>\n",
       "      <td>16.0</td>\n",
       "    </tr>\n",
       "    <tr>\n",
       "      <th>1</th>\n",
       "      <td>1.0</td>\n",
       "      <td>NaN</td>\n",
       "      <td>NaN</td>\n",
       "      <td>9.0</td>\n",
       "      <td>1</td>\n",
       "      <td>10.0</td>\n",
       "      <td>18.0</td>\n",
       "    </tr>\n",
       "  </tbody>\n",
       "</table>\n",
       "</div>"
      ],
      "text/plain": [
       "    x1  x2  x3   x4  x5    x6   new\n",
       "0  2.0 NaN NaN  8.0   5  13.0  16.0\n",
       "1  1.0 NaN NaN  9.0   1  10.0  18.0"
      ]
     },
     "execution_count": 19,
     "metadata": {},
     "output_type": "execute_result"
    }
   ],
   "source": [
    "# get null summary\n",
    "df.isnull().sum()\n",
    "\n",
    "# find rows where x4 column is not null\n",
    "df.loc[~df.x4.isnull()]"
   ]
  },
  {
   "cell_type": "code",
   "execution_count": 20,
   "metadata": {},
   "outputs": [
    {
     "data": {
      "text/html": [
       "<div>\n",
       "<style scoped>\n",
       "    .dataframe tbody tr th:only-of-type {\n",
       "        vertical-align: middle;\n",
       "    }\n",
       "\n",
       "    .dataframe tbody tr th {\n",
       "        vertical-align: top;\n",
       "    }\n",
       "\n",
       "    .dataframe thead th {\n",
       "        text-align: right;\n",
       "    }\n",
       "</style>\n",
       "<table border=\"1\" class=\"dataframe\">\n",
       "  <thead>\n",
       "    <tr style=\"text-align: right;\">\n",
       "      <th></th>\n",
       "      <th>name</th>\n",
       "      <th>academic</th>\n",
       "      <th>reward</th>\n",
       "      <th>status</th>\n",
       "    </tr>\n",
       "  </thead>\n",
       "  <tbody>\n",
       "    <tr>\n",
       "      <th>0</th>\n",
       "      <td>John</td>\n",
       "      <td>normal: High - School</td>\n",
       "      <td>81</td>\n",
       "      <td>Y</td>\n",
       "    </tr>\n",
       "    <tr>\n",
       "      <th>1</th>\n",
       "      <td>jane</td>\n",
       "      <td>High: college</td>\n",
       "      <td>58</td>\n",
       "      <td>Y</td>\n",
       "    </tr>\n",
       "    <tr>\n",
       "      <th>2</th>\n",
       "      <td>JACK</td>\n",
       "      <td>high: University</td>\n",
       "      <td>70</td>\n",
       "      <td>N</td>\n",
       "    </tr>\n",
       "    <tr>\n",
       "      <th>3</th>\n",
       "      <td>jill</td>\n",
       "      <td>normal:secondary school</td>\n",
       "      <td>74</td>\n",
       "      <td>N</td>\n",
       "    </tr>\n",
       "  </tbody>\n",
       "</table>\n",
       "</div>"
      ],
      "text/plain": [
       "   name                 academic  reward status\n",
       "0  John    normal: High - School      81      Y\n",
       "1  jane            High: college      58      Y\n",
       "2  JACK         high: University      70      N\n",
       "3  jill  normal:secondary school      74      N"
      ]
     },
     "execution_count": 20,
     "metadata": {},
     "output_type": "execute_result"
    }
   ],
   "source": [
    "# create another dataframe\n",
    "data = {\n",
    "    'name': ['John', 'jane', 'JACK', 'jill'],\n",
    "    'academic' : ['normal: High - School', 'High: college', 'high: University', 'normal:secondary school'],\n",
    "    'reward': np.random.randint(40,100,4),\n",
    "    'status': ['Y' if np.random.random()>0.5 else 'N' for i in range(4)]\n",
    "}\n",
    "df = pd.DataFrame(data)\n",
    "df"
   ]
  },
  {
   "cell_type": "code",
   "execution_count": 21,
   "metadata": {},
   "outputs": [
    {
     "name": "stdout",
     "output_type": "stream",
     "text": [
      "   name  reward status education            degree\n",
      "0  John      81      Y    normal     High - School\n",
      "1  jane      58      Y      High           college\n",
      "2  JACK      70      N      high        University\n",
      "3  jill      74      N    normal  secondary school\n"
     ]
    }
   ],
   "source": [
    "# split the academic column into two\n",
    "df[[\"education\", \"degree\"]] = df.academic.str.split(\":\", expand=True)\n",
    "df\n",
    "\n",
    "# drop the academic column\n",
    "df.drop('academic', axis=1, inplace=True)\n",
    "print(df)"
   ]
  },
  {
   "cell_type": "code",
   "execution_count": 22,
   "metadata": {},
   "outputs": [
    {
     "name": "stdout",
     "output_type": "stream",
     "text": [
      "   name  reward status education            degree\n",
      "0  john      81      y    normal     high - school\n",
      "1  jane      58      y      high           college\n",
      "2  jack      70      n      high        university\n",
      "3  jill      74      n    normal  secondary school\n"
     ]
    },
    {
     "data": {
      "text/plain": [
       "0       high_-_school\n",
       "1             college\n",
       "2          university\n",
       "3    secondary_school\n",
       "Name: degree, dtype: object"
      ]
     },
     "execution_count": 22,
     "metadata": {},
     "output_type": "execute_result"
    }
   ],
   "source": [
    "# use lambda, update(), select_dtypes()\n",
    "\n",
    "# change all name column into small letter using lambda.\n",
    "# notice that apply does not have parameter inplace --> we need to save the updated value to df.name\n",
    "df.name = df.name.apply(lambda x: x.lower())\n",
    "\n",
    "# we could also use df.update and select_dtypes()\n",
    "df.select_dtypes(include=object).apply(lambda x: x.str.lower()) \n",
    "# note the above code will not update the original df, you need to somehow update each selected df columns...\n",
    "# try to print the df to check!\n",
    "# print(df)\n",
    "\n",
    "# fortunately, we can use df.update\n",
    "df.update(df.select_dtypes(include=object).apply(lambda x: x.str.lower()))\n",
    "print(df)\n",
    "\n",
    "# remove the whitespace and change it into underscore, careful with extra white space\n",
    "df.degree.apply(lambda x: x.strip().replace(\" \",\"_\"))"
   ]
  },
  {
   "cell_type": "code",
   "execution_count": 23,
   "metadata": {},
   "outputs": [
    {
     "name": "stdout",
     "output_type": "stream",
     "text": [
      "high_school\n",
      "college\n",
      "university\n",
      "secondary_school\n"
     ]
    }
   ],
   "source": [
    "import re\n",
    "\n",
    "for a in df.degree:\n",
    "    b = re.sub(' +', ' ',a.strip().replace(\"-\",\" \")).replace(\" \",\"_\")\n",
    "    print(b)"
   ]
  },
  {
   "cell_type": "code",
   "execution_count": 24,
   "metadata": {},
   "outputs": [
    {
     "name": "stderr",
     "output_type": "stream",
     "text": [
      "C:\\Users\\300373688\\AppData\\Local\\Temp\\ipykernel_5448\\2966056201.py:4: FutureWarning: A value is trying to be set on a copy of a DataFrame or Series through chained assignment using an inplace method.\n",
      "The behavior will change in pandas 3.0. This inplace method will never work because the intermediate object on which we are setting values always behaves as a copy.\n",
      "\n",
      "For example, when doing 'df[col].method(value, inplace=True)', try using 'df.method({col: value}, inplace=True)' or df[col] = df[col].method(value) instead, to perform the operation inplace on the original object.\n",
      "\n",
      "\n",
      "  df.degree.update(df.degree.apply(lambda x: re.sub(' +', ' ',x.strip().replace(\"-\",\" \")).replace(\" \",\"_\")))\n"
     ]
    },
    {
     "data": {
      "text/html": [
       "<div>\n",
       "<style scoped>\n",
       "    .dataframe tbody tr th:only-of-type {\n",
       "        vertical-align: middle;\n",
       "    }\n",
       "\n",
       "    .dataframe tbody tr th {\n",
       "        vertical-align: top;\n",
       "    }\n",
       "\n",
       "    .dataframe thead th {\n",
       "        text-align: right;\n",
       "    }\n",
       "</style>\n",
       "<table border=\"1\" class=\"dataframe\">\n",
       "  <thead>\n",
       "    <tr style=\"text-align: right;\">\n",
       "      <th></th>\n",
       "      <th>name</th>\n",
       "      <th>reward</th>\n",
       "      <th>status</th>\n",
       "      <th>education</th>\n",
       "      <th>degree</th>\n",
       "    </tr>\n",
       "  </thead>\n",
       "  <tbody>\n",
       "    <tr>\n",
       "      <th>0</th>\n",
       "      <td>john</td>\n",
       "      <td>81</td>\n",
       "      <td>y</td>\n",
       "      <td>normal</td>\n",
       "      <td>high_school</td>\n",
       "    </tr>\n",
       "    <tr>\n",
       "      <th>1</th>\n",
       "      <td>jane</td>\n",
       "      <td>58</td>\n",
       "      <td>y</td>\n",
       "      <td>high</td>\n",
       "      <td>college</td>\n",
       "    </tr>\n",
       "    <tr>\n",
       "      <th>2</th>\n",
       "      <td>jack</td>\n",
       "      <td>70</td>\n",
       "      <td>n</td>\n",
       "      <td>high</td>\n",
       "      <td>university</td>\n",
       "    </tr>\n",
       "    <tr>\n",
       "      <th>3</th>\n",
       "      <td>jill</td>\n",
       "      <td>74</td>\n",
       "      <td>n</td>\n",
       "      <td>normal</td>\n",
       "      <td>secondary_school</td>\n",
       "    </tr>\n",
       "  </tbody>\n",
       "</table>\n",
       "</div>"
      ],
      "text/plain": [
       "   name  reward status education            degree\n",
       "0  john      81      y    normal       high_school\n",
       "1  jane      58      y      high           college\n",
       "2  jack      70      n      high        university\n",
       "3  jill      74      n    normal  secondary_school"
      ]
     },
     "execution_count": 24,
     "metadata": {},
     "output_type": "execute_result"
    }
   ],
   "source": [
    "# I had a solution with using lambda in lambda. But i think below is easier to understand :)\n",
    "\n",
    "df.degree.apply(lambda x: re.sub(' +', ' ',x.strip().replace(\"-\",\" \")).replace(\" \",\"_\"))\n",
    "df.degree.update(df.degree.apply(lambda x: re.sub(' +', ' ',x.strip().replace(\"-\",\" \")).replace(\" \",\"_\")))\n",
    "df"
   ]
  },
  {
   "cell_type": "markdown",
   "metadata": {},
   "source": [
    "### Using map"
   ]
  },
  {
   "cell_type": "code",
   "execution_count": 26,
   "metadata": {},
   "outputs": [
    {
     "name": "stdout",
     "output_type": "stream",
     "text": [
      "          food  ounces  animal\n",
      "0     Pastrami     6.0     NaN\n",
      "1  corned beef     7.5     cow\n",
      "2  Peking duck     5.0    duck\n",
      "3     pastrami     3.0     cow\n",
      "4     nova lox     6.0  salmon\n",
      "5    Foie gras     1.5     NaN\n",
      "Index(['FOOD', 'OUNCES', 'ANIMAL'], dtype='object')\n"
     ]
    }
   ],
   "source": [
    "#application when you want to perform some transformation based on the values in an array, Series, or column in a DataFrame\n",
    "#Example\n",
    "df_t = pd.DataFrame({'food':['Pastrami','corned beef', 'Peking duck',\n",
    "                            'pastrami', 'nova lox', 'Foie gras'],\n",
    "                    'ounces':[6,7.5,5,3,6,1.5]})\n",
    "\n",
    "#print(df_t)\n",
    "\n",
    "#supppose you want to add a column indicating the type of animal that each food came from. Let's write down a mapping \n",
    "#of each disticnt meat type to the kind of animal where it cakme from:\n",
    "\n",
    "map_meat_to_animal={\n",
    "    'pastrami' : 'cow',\n",
    "    'corned beef': 'cow',\n",
    "    'nova lox': 'salmon',\n",
    "    'foie gras': 'duck',\n",
    "    'Peking duck': 'duck'\n",
    "}\n",
    "\n",
    "# use the map to perform transformation of the df['food']\n",
    "df_t['animal'] = df_t['food'].map(map_meat_to_animal)\n",
    "print(df_t)\n",
    "\n",
    "upcolumns = df_t.columns.str.upper()\n",
    "print(upcolumns)"
   ]
  },
  {
   "cell_type": "markdown",
   "metadata": {},
   "source": [
    "### Renaming Axis Indexes"
   ]
  },
  {
   "cell_type": "code",
   "execution_count": 28,
   "metadata": {
    "scrolled": true
   },
   "outputs": [
    {
     "name": "stdout",
     "output_type": "stream",
     "text": [
      "      one  two\n",
      "VANC    0    1\n",
      "NEW     2    3\n",
      "RICH    4    5 \n",
      "\n",
      "        one  two\n",
      "banana    0    1\n",
      "grape     2    3\n",
      "apple     4    5 \n",
      "\n"
     ]
    }
   ],
   "source": [
    "# generate a dataframe\n",
    "data = pd.DataFrame(np.arange(6).reshape(3,2),\n",
    "                    index=['Vancouver', 'New Westminster', 'Richmond'],\n",
    "                    columns=['one', 'two']\n",
    "                   )\n",
    "data\n",
    "data.index = data.index.map(lambda x: x[:4].upper())\n",
    "print(data,'\\n')\n",
    "data.index = ['banana','grape','apple']\n",
    "print(data,'\\n')"
   ]
  },
  {
   "cell_type": "markdown",
   "metadata": {},
   "source": [
    "### Using GroupBy and Transform"
   ]
  },
  {
   "cell_type": "code",
   "execution_count": 30,
   "metadata": {},
   "outputs": [
    {
     "name": "stdout",
     "output_type": "stream",
     "text": [
      "    userID  purchase\n",
      "0      101       350\n",
      "1      101       425\n",
      "2      101       400\n",
      "3      102       250\n",
      "4      102       300\n",
      "5      102       250\n",
      "6      103       400\n",
      "7      104       400\n",
      "8      104       475\n",
      "9      104       325\n",
      "10     104       250\n",
      "11     104       400\n",
      "userID\n",
      "101    391.666667\n",
      "102    266.666667\n",
      "103    400.000000\n",
      "104    370.000000\n",
      "Name: purchase, dtype: float64\n",
      "    userID  purchase   user_mean\n",
      "0      101       350  391.666667\n",
      "1      101       425  391.666667\n",
      "2      101       400  391.666667\n",
      "3      102       250  266.666667\n",
      "4      102       300  266.666667\n",
      "5      102       250  266.666667\n",
      "6      103       400  400.000000\n",
      "7      104       400  370.000000\n",
      "8      104       475  370.000000\n",
      "9      104       325  370.000000\n",
      "10     104       250  370.000000\n",
      "11     104       400  370.000000\n"
     ]
    }
   ],
   "source": [
    "# generate some data\n",
    "user = np.random.randint(101, 105, 12)\n",
    "user = np.sort(user)\n",
    "purchase = np.random.randint(10, 20, 12)*25\n",
    "data = np.vstack((user, purchase)).T\n",
    "\n",
    "# create a dataframe\n",
    "df = pd.DataFrame(data, columns=['userID', 'purchase'])\n",
    "print(df)\n",
    "\n",
    "# use groupby to find the mean average purchase per user\n",
    "mean = df.groupby('userID')['purchase'].mean()\n",
    "print(mean)\n",
    "\n",
    "# if you want to create a new column with groupby result, you need to use transform()\n",
    "# The transform function retains the same number of items as the original dataset after performing the transformation.\n",
    "# transform() calls func on self producing a DataFrame with transformed values.\n",
    "# Produced DataFrame will have same axis length as self.\n",
    "df['user_mean'] = df.groupby('userID')['purchase'].transform('mean')\n",
    "print(df)"
   ]
  },
  {
   "cell_type": "code",
   "execution_count": null,
   "metadata": {},
   "outputs": [],
   "source": []
  }
 ],
 "metadata": {
  "kernelspec": {
   "display_name": "Python 3 (ipykernel)",
   "language": "python",
   "name": "python3"
  },
  "language_info": {
   "codemirror_mode": {
    "name": "ipython",
    "version": 3
   },
   "file_extension": ".py",
   "mimetype": "text/x-python",
   "name": "python",
   "nbconvert_exporter": "python",
   "pygments_lexer": "ipython3",
   "version": "3.12.4"
  }
 },
 "nbformat": 4,
 "nbformat_minor": 4
}
