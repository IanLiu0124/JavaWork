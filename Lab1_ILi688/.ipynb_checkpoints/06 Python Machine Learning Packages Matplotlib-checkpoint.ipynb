{
 "cells": [
  {
   "cell_type": "markdown",
   "metadata": {},
   "source": [
    "# Reference\n",
    "- Pandas documentation https://pandas.pydata.org/\n",
    "- Matplotlib documentation https://matplotlib.org/\n",
    "- Seaborn documentation https://seaborn.pydata.org\n",
    "- Python Fundamentals for Machine Learning by Dr.Thyagaraju G S , Context Innovations Lab\n",
    "- Python for Data Analysis, Data Wrangling with Pandas, Numpy and IPython, O'Reilly media"
   ]
  },
  {
   "cell_type": "markdown",
   "metadata": {},
   "source": [
    "## 4. Data Visualization\n",
    "## 4.1. Matplotlib\n",
    "Matplotlib is a numerical mathematics extension NumPy and a great package to view or present data in a pictorial or graphical format. It enables analysts and decision makers to see analytics presented visually, so they can grasp difficult concepts or identify new patterns. \n",
    "\n",
    "Some of the most commonly used charts.\n",
    "- plt.scatter – makes a scatter plot \n",
    "- plt.bar – creates a bar chart\n",
    "- plt.boxplot – makes a box and whisker plot\n",
    "- plt.hist – makes a histogram\n",
    "- plt.plot – creates a line plot"
   ]
  },
  {
   "cell_type": "code",
   "execution_count": 3,
   "metadata": {},
   "outputs": [],
   "source": [
    "import matplotlib.pyplot as plt\n",
    "import numpy as np\n",
    "import pandas as pd"
   ]
  },
  {
   "cell_type": "code",
   "execution_count": 4,
   "metadata": {
    "scrolled": true
   },
   "outputs": [],
   "source": [
    "# Creating plot from random data\n",
    "# simple bar and scatter plot\n",
    "\n",
    "x = np.arange(5) # assume there are 5 students\n",
    "y = np.random.randint(40,80, size=5) # randomize test scores\n",
    "\n",
    "# Plots in matplotlib reside within a Figure object. \n",
    "# matplotlib will draw on the last figure object or create one if necessary\n",
    "\n",
    "# need to close the figure using show() or close(), if not closed\n",
    "# any sequenction plot commands will use the same figure.\n"
   ]
  },
  {
   "cell_type": "code",
   "execution_count": 5,
   "metadata": {},
   "outputs": [],
   "source": [
    "# subplot\n",
    "\n",
    "# matplotlib will draw on the last figure object\n",
    "# k-- means black dash, go- means green with marker and line\n",
    "\n",
    "# alpha is transparancy\n",
    "\n",
    "# adjusting the subplot space. values are in percentage of the figure\n",
    "#subplots_adjust(left=None, bottom=None, right=None, top=None, wspace=None, hspace=None)\n"
   ]
  },
  {
   "cell_type": "code",
   "execution_count": 7,
   "metadata": {
    "scrolled": true
   },
   "outputs": [],
   "source": [
    "# you can use figsize to guarantee the figure has a certain size (in inches) and aspect ratio if saved to disk\n",
    "\n",
    "from numpy.random import randn\n",
    "\n",
    "\n",
    "# saving the figure\n"
   ]
  },
  {
   "cell_type": "markdown",
   "metadata": {},
   "source": [
    "## 4.2. Plotting from Pandas"
   ]
  },
  {
   "cell_type": "code",
   "execution_count": 8,
   "metadata": {
    "scrolled": true
   },
   "outputs": [],
   "source": [
    "# Note, you can also create subplot in Pandas\n",
    "\n",
    "# load the iris data available in sklearn\n",
    "from sklearn.datasets import load_iris\n",
    "import pandas as pd\n",
    "iris=load_iris()\n",
    "\n",
    "# Read sample data\n",
    "df = pd.DataFrame(iris.data)\n",
    "df.columns = ['Sepal_Length','Sepal_Width','Petal_Length','Petal_Width']\n",
    "\n",
    "# plot the dataframe"
   ]
  },
  {
   "cell_type": "code",
   "execution_count": 9,
   "metadata": {},
   "outputs": [
    {
     "data": {
      "text/html": [
       "<style  type=\"text/css\" >\n",
       "    #T_c8719db4_bddd_11eb_a989_dc1ba1b656fbrow0_col0 {\n",
       "            background-color:  #79b5d9;\n",
       "            color:  #000000;\n",
       "        }    #T_c8719db4_bddd_11eb_a989_dc1ba1b656fbrow0_col1 {\n",
       "            background-color:  #7db8da;\n",
       "            color:  #000000;\n",
       "        }    #T_c8719db4_bddd_11eb_a989_dc1ba1b656fbrow0_col2 {\n",
       "            background-color:  #72b2d8;\n",
       "            color:  #000000;\n",
       "        }    #T_c8719db4_bddd_11eb_a989_dc1ba1b656fbrow0_col3 {\n",
       "            background-color:  #c7dcef;\n",
       "            color:  #000000;\n",
       "        }    #T_c8719db4_bddd_11eb_a989_dc1ba1b656fbrow1_col0 {\n",
       "            background-color:  #d3e4f3;\n",
       "            color:  #000000;\n",
       "        }    #T_c8719db4_bddd_11eb_a989_dc1ba1b656fbrow1_col1 {\n",
       "            background-color:  #d6e6f4;\n",
       "            color:  #000000;\n",
       "        }    #T_c8719db4_bddd_11eb_a989_dc1ba1b656fbrow1_col2 {\n",
       "            background-color:  #08306b;\n",
       "            color:  #f1f1f1;\n",
       "        }    #T_c8719db4_bddd_11eb_a989_dc1ba1b656fbrow1_col3 {\n",
       "            background-color:  #8fc2de;\n",
       "            color:  #000000;\n",
       "        }    #T_c8719db4_bddd_11eb_a989_dc1ba1b656fbrow2_col0 {\n",
       "            background-color:  #c8dcf0;\n",
       "            color:  #000000;\n",
       "        }    #T_c8719db4_bddd_11eb_a989_dc1ba1b656fbrow2_col1 {\n",
       "            background-color:  #083a7a;\n",
       "            color:  #f1f1f1;\n",
       "        }    #T_c8719db4_bddd_11eb_a989_dc1ba1b656fbrow2_col2 {\n",
       "            background-color:  #519ccc;\n",
       "            color:  #000000;\n",
       "        }    #T_c8719db4_bddd_11eb_a989_dc1ba1b656fbrow2_col3 {\n",
       "            background-color:  #92c4de;\n",
       "            color:  #000000;\n",
       "        }    #T_c8719db4_bddd_11eb_a989_dc1ba1b656fbrow3_col0 {\n",
       "            background-color:  #d1e2f3;\n",
       "            color:  #000000;\n",
       "        }    #T_c8719db4_bddd_11eb_a989_dc1ba1b656fbrow3_col1 {\n",
       "            background-color:  #cadef0;\n",
       "            color:  #000000;\n",
       "        }    #T_c8719db4_bddd_11eb_a989_dc1ba1b656fbrow3_col2 {\n",
       "            background-color:  #d8e7f5;\n",
       "            color:  #000000;\n",
       "        }    #T_c8719db4_bddd_11eb_a989_dc1ba1b656fbrow3_col3 {\n",
       "            background-color:  #bfd8ed;\n",
       "            color:  #000000;\n",
       "        }    #T_c8719db4_bddd_11eb_a989_dc1ba1b656fbrow4_col0 {\n",
       "            background-color:  #08458a;\n",
       "            color:  #f1f1f1;\n",
       "        }    #T_c8719db4_bddd_11eb_a989_dc1ba1b656fbrow4_col1 {\n",
       "            background-color:  #1e6db2;\n",
       "            color:  #f1f1f1;\n",
       "        }    #T_c8719db4_bddd_11eb_a989_dc1ba1b656fbrow4_col2 {\n",
       "            background-color:  #3383be;\n",
       "            color:  #000000;\n",
       "        }    #T_c8719db4_bddd_11eb_a989_dc1ba1b656fbrow4_col3 {\n",
       "            background-color:  #f7fbff;\n",
       "            color:  #000000;\n",
       "        }</style><table id=\"T_c8719db4_bddd_11eb_a989_dc1ba1b656fb\" ><thead>    <tr>        <th class=\"blank level0\" ></th>        <th class=\"col_heading level0 col0\" >A</th>        <th class=\"col_heading level0 col1\" >B</th>        <th class=\"col_heading level0 col2\" >C</th>        <th class=\"col_heading level0 col3\" >D</th>    </tr></thead><tbody>\n",
       "                <tr>\n",
       "                        <th id=\"T_c8719db4_bddd_11eb_a989_dc1ba1b656fblevel0_row0\" class=\"row_heading level0 row0\" >one</th>\n",
       "                        <td id=\"T_c8719db4_bddd_11eb_a989_dc1ba1b656fbrow0_col0\" class=\"data row0 col0\" >0.878139</td>\n",
       "                        <td id=\"T_c8719db4_bddd_11eb_a989_dc1ba1b656fbrow0_col1\" class=\"data row0 col1\" >0.851796</td>\n",
       "                        <td id=\"T_c8719db4_bddd_11eb_a989_dc1ba1b656fbrow0_col2\" class=\"data row0 col2\" >0.905133</td>\n",
       "                        <td id=\"T_c8719db4_bddd_11eb_a989_dc1ba1b656fbrow0_col3\" class=\"data row0 col3\" >0.465230</td>\n",
       "            </tr>\n",
       "            <tr>\n",
       "                        <th id=\"T_c8719db4_bddd_11eb_a989_dc1ba1b656fblevel0_row1\" class=\"row_heading level0 row1\" >two</th>\n",
       "                        <td id=\"T_c8719db4_bddd_11eb_a989_dc1ba1b656fbrow1_col0\" class=\"data row1 col0\" >0.347596</td>\n",
       "                        <td id=\"T_c8719db4_bddd_11eb_a989_dc1ba1b656fbrow1_col1\" class=\"data row1 col1\" >0.321698</td>\n",
       "                        <td id=\"T_c8719db4_bddd_11eb_a989_dc1ba1b656fbrow1_col2\" class=\"data row1 col2\" >1.857411</td>\n",
       "                        <td id=\"T_c8719db4_bddd_11eb_a989_dc1ba1b656fbrow1_col3\" class=\"data row1 col3\" >0.777968</td>\n",
       "            </tr>\n",
       "            <tr>\n",
       "                        <th id=\"T_c8719db4_bddd_11eb_a989_dc1ba1b656fblevel0_row2\" class=\"row_heading level0 row2\" >three</th>\n",
       "                        <td id=\"T_c8719db4_bddd_11eb_a989_dc1ba1b656fbrow2_col0\" class=\"data row2 col0\" >0.457187</td>\n",
       "                        <td id=\"T_c8719db4_bddd_11eb_a989_dc1ba1b656fbrow2_col1\" class=\"data row2 col1\" >1.779314</td>\n",
       "                        <td id=\"T_c8719db4_bddd_11eb_a989_dc1ba1b656fbrow2_col2\" class=\"data row2 col2\" >1.084819</td>\n",
       "                        <td id=\"T_c8719db4_bddd_11eb_a989_dc1ba1b656fbrow2_col3\" class=\"data row2 col3\" >0.761772</td>\n",
       "            </tr>\n",
       "            <tr>\n",
       "                        <th id=\"T_c8719db4_bddd_11eb_a989_dc1ba1b656fblevel0_row3\" class=\"row_heading level0 row3\" >four</th>\n",
       "                        <td id=\"T_c8719db4_bddd_11eb_a989_dc1ba1b656fbrow3_col0\" class=\"data row3 col0\" >0.374439</td>\n",
       "                        <td id=\"T_c8719db4_bddd_11eb_a989_dc1ba1b656fbrow3_col1\" class=\"data row3 col1\" >0.436741</td>\n",
       "                        <td id=\"T_c8719db4_bddd_11eb_a989_dc1ba1b656fbrow3_col2\" class=\"data row3 col2\" >0.304706</td>\n",
       "                        <td id=\"T_c8719db4_bddd_11eb_a989_dc1ba1b656fbrow3_col3\" class=\"data row3 col3\" >0.517029</td>\n",
       "            </tr>\n",
       "            <tr>\n",
       "                        <th id=\"T_c8719db4_bddd_11eb_a989_dc1ba1b656fblevel0_row4\" class=\"row_heading level0 row4\" >five</th>\n",
       "                        <td id=\"T_c8719db4_bddd_11eb_a989_dc1ba1b656fbrow4_col0\" class=\"data row4 col0\" >1.711879</td>\n",
       "                        <td id=\"T_c8719db4_bddd_11eb_a989_dc1ba1b656fbrow4_col1\" class=\"data row4 col1\" >1.424668</td>\n",
       "                        <td id=\"T_c8719db4_bddd_11eb_a989_dc1ba1b656fbrow4_col2\" class=\"data row4 col2\" >1.273459</td>\n",
       "                        <td id=\"T_c8719db4_bddd_11eb_a989_dc1ba1b656fbrow4_col3\" class=\"data row4 col3\" >0.015895</td>\n",
       "            </tr>\n",
       "    </tbody></table>"
      ],
      "text/plain": [
       "<pandas.io.formats.style.Styler at 0x1aa32b9da60>"
      ]
     },
     "execution_count": 9,
     "metadata": {},
     "output_type": "execute_result"
    }
   ],
   "source": [
    "index = ['one', 'two', 'three', 'four', 'five']\n",
    "columns = ['A', 'B', 'C', 'D']\n",
    "df = pd.DataFrame(abs(np.random.randn(5, 4)), index=index, columns=columns)\n",
    "df.style.background_gradient(cmap='Blues', axis=None)"
   ]
  },
  {
   "cell_type": "markdown",
   "metadata": {},
   "source": [
    "## 4.3 Seaborn\n",
    "Seaborn provide a high level interface to matplotlib API, and relies on Pandas' dataframe to provide visualizations that:\n",
    "- Using default themes that are aesthetically pleasing.\n",
    "- Setting custom color palettes.\n",
    "- Making attractive statistical plots.\n",
    "- Easily and flexibly displaying distributions.\n",
    "- Visualizing information from matrices and DataFrames."
   ]
  },
  {
   "cell_type": "code",
   "execution_count": 10,
   "metadata": {},
   "outputs": [],
   "source": [
    "# Import seaborn\n",
    "import seaborn as sns\n",
    "\n",
    "# Load an example dataset\n",
    "tips = sns.load_dataset(\"tips\")\n",
    "\n",
    "# relplot shows relationship between variables\n"
   ]
  },
  {
   "cell_type": "markdown",
   "metadata": {},
   "source": [
    "Seaborn provide a lot more types of plot that are difficult to implement with matplotlib"
   ]
  },
  {
   "cell_type": "code",
   "execution_count": 11,
   "metadata": {},
   "outputs": [],
   "source": [
    "# distribution plot"
   ]
  },
  {
   "cell_type": "code",
   "execution_count": 12,
   "metadata": {},
   "outputs": [],
   "source": [
    "# distribution plot"
   ]
  }
 ],
 "metadata": {
  "kernelspec": {
   "display_name": "Python 3",
   "language": "python",
   "name": "python3"
  },
  "language_info": {
   "codemirror_mode": {
    "name": "ipython",
    "version": 3
   },
   "file_extension": ".py",
   "mimetype": "text/x-python",
   "name": "python",
   "nbconvert_exporter": "python",
   "pygments_lexer": "ipython3",
   "version": "3.8.3"
  }
 },
 "nbformat": 4,
 "nbformat_minor": 4
}
